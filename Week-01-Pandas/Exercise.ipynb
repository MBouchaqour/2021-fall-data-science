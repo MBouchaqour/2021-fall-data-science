{
 "cells": [
  {
   "cell_type": "markdown",
   "metadata": {},
   "source": [
    "<!-- # Data wrangling with Pandas exercise\n",
    "* For this exercise we will be using the `listings.csv` data file. -->"
   ]
  },
  {
   "cell_type": "code",
   "execution_count": null,
   "metadata": {},
   "outputs": [],
   "source": [
    "print('Zack is the best teacher ever!')"
   ]
  },
  {
   "cell_type": "code",
   "execution_count": null,
   "metadata": {},
   "outputs": [],
   "source": [
    "import pandas as pd\n",
    "import numpy as np"
   ]
  },
  {
   "cell_type": "markdown",
   "metadata": {},
   "source": [
    "# Load in the data file using `pd.read_csv()`"
   ]
  },
  {
   "cell_type": "code",
   "execution_count": null,
   "metadata": {},
   "outputs": [],
   "source": [
    "# Load data here\n",
    "\n",
    "df=pd.read_csv(\"data/listings.csv\")\n",
    "df.head(10)"
   ]
  },
  {
   "cell_type": "markdown",
   "metadata": {},
   "source": [
    "## Exercise 2 - Filtering\n",
    "\n",
    "Return the following subsets of the dataframe.\n",
    "\n",
    "1. How many listings are there with a price less than 100? \n",
    "\n",
    "\n",
    "2. Find how many listings there are in just Brooklyn.\n",
    "\n",
    "\n",
    "3. Find how many listings there are in Brooklyn with a price less than 100.\n",
    "\n",
    "\n",
    "4. Using `.isin()` select anyone that has the host name of Michael, David, John, and Daniel.\n",
    "\n",
    "\n",
    "5. Create a new column called `adjusted_price` that has $100 added to every listing in Williamsburg.  The prices for all other listings should be the same as the were before. \n",
    "\n",
    "\n",
    "6. What % of the rooms are private, and what % of the rooms are shared.  \n",
    "    * Hint, use `.value_counts()`\n"
   ]
  },
  {
   "cell_type": "code",
   "execution_count": null,
   "metadata": {},
   "outputs": [],
   "source": [
    "# 1. How many listings are there with a price less than 100? \n",
    "cond1=df['price']<100\n",
    "df[cond1].shape[0]\n",
    "\n"
   ]
  },
  {
   "cell_type": "code",
   "execution_count": null,
   "metadata": {},
   "outputs": [],
   "source": [
    "# 2. Make a new DataFrame of listings in Brooklyn named `df_bk` \n",
    "# and find how many listings in just Brooklyn.\n",
    "cond2=df['neighbourhood_group']=='Brooklyn'\n",
    "df_bk=df[cond2]\n",
    "df_bk.shape[0]\n"
   ]
  },
  {
   "cell_type": "code",
   "execution_count": null,
   "metadata": {},
   "outputs": [],
   "source": [
    "# 3. Find how many listings there are in Brooklyn with a price less than 100.\n",
    "df[cond1 & cond2].shape[0]\n",
    "\n",
    "\n"
   ]
  },
  {
   "cell_type": "code",
   "execution_count": null,
   "metadata": {},
   "outputs": [],
   "source": [
    "# 4. Using `.isin()` select anyone that has the host name of Michael, David, John, and Daniel.\n",
    "select_names=[\"Michael\", \"David\", \"John\",\"Daniel\"]\n",
    "condition = df.host_name.isin(select_names)\n",
    "\n",
    "df[condition]\n",
    "\n"
   ]
  },
  {
   "cell_type": "code",
   "execution_count": null,
   "metadata": {},
   "outputs": [],
   "source": [
    "# 5. Create a new column called `adjusted_price` that has $100 added to every listing in Williamsburg.  \n",
    "# The prices for all other listings should be the same as the were before. \n",
    "\n",
    "c1 = df['neighbourhood'] == 'Williamsburg'\n",
    "\n",
    "df['adjusted_price'] =  np.where( c1, df['price']+100, df['price'] )\n",
    "\n",
    "df.tail(10)\n"
   ]
  },
  {
   "cell_type": "code",
   "execution_count": null,
   "metadata": {},
   "outputs": [],
   "source": [
    "# 6. What % of the rooms are private, and what % of the rooms are shared. \n",
    "\n",
    "def calculatePercentage(x):\n",
    "    total=df['id'].shape[0]\n",
    "    percentage=\"{:.2%}\".format(x/total)\n",
    "    return percentage\n",
    "type_room=['Private room','Shared room']\n",
    "select_type_ofRoom=int(input(f\"Please type 1 for {type_room[0]}, or type 2 for {type_room[1]}\"))\n",
    "if select_type_ofRoom not in [1,2]:\n",
    "    print(\"Make sure you choose either 1 for Private Room or 2 for Shared Room\")\n",
    "else:\n",
    "    room_cond=df['room_type']==type_room[select_type_ofRoom-1]\n",
    "    room_cond_number=df[room_cond].shape[0]\n",
    "    print(f\"The percentage of {type_room[select_type_ofRoom-1]} are {calculatePercentage(room_cond_number)}\")\n",
    "\n",
    "\n"
   ]
  },
  {
   "cell_type": "markdown",
   "metadata": {},
   "source": [
    "# Exercise 3 - Grouping\n",
    "\n",
    "1. Using `groupby`, count how many listings are in each neighbourhood_group.\n",
    "\n",
    "\n",
    "2. Using `groupby`, find the mean price for each of the neighbourhood_groups. \n",
    "\n",
    "\n",
    "3. Using `groupby` and `.agg()`, find the min and max price for each of the neighbourhood_groups. \n",
    "\n",
    "\n",
    "4. Using `groupby`, find the median price for each room type in each neighbourhood_group.\n",
    "\n",
    "\n",
    "5. Using `groupby` and `.agg()`, find the count, min, max, mean, median, and std of the prices for each room type in each neighbourhood_group."
   ]
  },
  {
   "cell_type": "code",
   "execution_count": null,
   "metadata": {},
   "outputs": [],
   "source": [
    "# 1. Using `groupby`, count how many listings are in each neighbourhood_group.\n",
    "\n",
    "#first method\n",
    "# df.neighbourhood_group.value_counts()\n",
    "\n",
    "#Second method\n",
    "n_by_neighbourhood_group = df.groupby('neighbourhood_group')['neighbourhood'].count()\n",
    "n_by_neighbourhood_group"
   ]
  },
  {
   "cell_type": "code",
   "execution_count": null,
   "metadata": {},
   "outputs": [],
   "source": [
    "# 2. Using `groupby`, find the mean price for each of the neighbourhood_groups. \n",
    "gb = df.groupby('neighbourhood_group')\n",
    "gb['price'].agg(['mean'])\n",
    "\n"
   ]
  },
  {
   "cell_type": "code",
   "execution_count": null,
   "metadata": {},
   "outputs": [],
   "source": [
    "# 3. Using `groupby` and `.agg()`, find the min and max price for each of the neighbourhood_groups. \n",
    "gb = df.groupby('neighbourhood_group')\n",
    "gb['price'].agg(['min','max'])\n",
    "\n"
   ]
  },
  {
   "cell_type": "code",
   "execution_count": null,
   "metadata": {},
   "outputs": [],
   "source": [
    "# 4. Using `groupby`, find the mean price for each room type in each neighbourhood_group.\n",
    "\n",
    "groupby_cols = ['neighbourhood_group', 'room_type']\n",
    "gb = df.groupby(groupby_cols)\n",
    "gb['price'].mean()"
   ]
  },
  {
   "cell_type": "code",
   "execution_count": null,
   "metadata": {},
   "outputs": [],
   "source": [
    "# 5. Using `groupby` and `.agg()`, find the count, min, max, mean, median, and std of the prices \n",
    "# for each room type in each neighbourhood_group.\n",
    "groupby_cols = ['neighbourhood_group', 'room_type']\n",
    "gb = df.groupby(groupby_cols)\n",
    "gb['price'].agg(['min','max','mean','median','std'])\n",
    "\n"
   ]
  },
  {
   "cell_type": "markdown",
   "metadata": {},
   "source": [
    "# Join and file saving.\n",
    "1. Load the `prices.csv` and the `n_listings.csv`\n",
    "\n",
    "\n",
    "2. Do join that keeps all the records for each table.\n",
    "    * Neighbourhood groups should include ['Bronx', 'Brooklyn', 'Manhattan', 'Queens', 'Staten Island',\n",
    "       'LongIsland']\n",
    "       \n",
    "       \n",
    "3. Save your joined csv as `joined.csv`\n",
    "\n",
    "\n",
    "4. Load your saved table and see if it looks the same or different that the DataFrame you used to create it. "
   ]
  },
  {
   "cell_type": "code",
   "execution_count": null,
   "metadata": {},
   "outputs": [],
   "source": [
    "# 1. Load the `prices.csv` and the `n_listings.csv`\n",
    "df_prices=pd.read_csv(\"data/prices.csv\")\n",
    "df_prices"
   ]
  },
  {
   "cell_type": "code",
   "execution_count": null,
   "metadata": {},
   "outputs": [],
   "source": [
    "df_n_listings=pd.read_csv(\"data/n_listings.csv\",sep=';')\n",
    "df_n_listings"
   ]
  },
  {
   "cell_type": "code",
   "execution_count": null,
   "metadata": {},
   "outputs": [],
   "source": [
    "# 2. Do join that keeps all the records for each table.\n",
    "new_df = pd.merge(df_prices, df_n_listings, on='neighbourhood_group', how='outer')\n",
    "new_df"
   ]
  },
  {
   "cell_type": "code",
   "execution_count": null,
   "metadata": {},
   "outputs": [],
   "source": [
    "#creating a csv file using the dataframe above\n",
    "save_as = 'data/joined.csv'\n",
    "new_df.to_csv(save_as, index=False)"
   ]
  },
  {
   "cell_type": "code",
   "execution_count": null,
   "metadata": {},
   "outputs": [],
   "source": [
    "#check if we can read the file joined.csv and compare it to original dataframe\n",
    "joined_file=pd.read_csv(\"data/joined.csv\")\n",
    "joined_file"
   ]
  },
  {
   "cell_type": "markdown",
   "metadata": {},
   "source": [
    "# Use the grammys.csv data for the next section of questions.\n",
    "\n",
    "1. Who was won Album of the Year in 2016?\n",
    "\n",
    "\n",
    "2. Who won Best Rap Album in 2009?\n",
    "\n",
    "\n",
    "3. How many awards was Kendrick Lamar nomiated for, and how many did he win...?"
   ]
  },
  {
   "cell_type": "code",
   "execution_count": null,
   "metadata": {},
   "outputs": [],
   "source": [
    "df_grammys=pd.read_csv(\"data/grammys.csv\")\n",
    "df_grammys.head(10)\n",
    "\n"
   ]
  },
  {
   "cell_type": "code",
   "execution_count": null,
   "metadata": {},
   "outputs": [],
   "source": [
    "#  1. Who was won Album of the Year in 2016?\n",
    "cond_album=df_grammys['category']=='Album of the Year'\n",
    "cond_year=df_grammys['year']==2016\n",
    "cond_win=df_grammys['winner']==True\n",
    "\n",
    "df_grammys[cond_album & cond_year & cond_win]\n"
   ]
  },
  {
   "cell_type": "code",
   "execution_count": null,
   "metadata": {},
   "outputs": [],
   "source": [
    "# 2. Who won Best Rap Album in 2009?\n",
    "# cond_year=df_grammys['year']==2009\n",
    "cond_album=df_grammys['category']=='Best Rap Album'\n",
    "cond_year=df_grammys['year']==2009\n",
    "cond_win=df_grammys['winner']==True\n",
    "\n",
    "df_grammys[cond_album & cond_year & cond_win]\n",
    "\n",
    "\n"
   ]
  },
  {
   "cell_type": "code",
   "execution_count": null,
   "metadata": {},
   "outputs": [],
   "source": [
    "# 3. How many awards was Kendrick Lamar nomiated for, and how many did he win...?\n",
    "def myfunction(x):\n",
    "    if \"Kendrick Lamar\" in str(x):\n",
    "        return True\n",
    "    else:\n",
    "        return False\n",
    "\n",
    "\n",
    "condition = df_grammys.workers.apply(myfunction)\n",
    "\n",
    "\n",
    "print(f\"The number of award that kendrick lamar was nominated for is {df_grammys[condition].shape[0]}\")\n",
    "\n",
    "# determining how many nomination Lamar won\n",
    "win_cond=df_grammys['winner']==True\n",
    "df_grammys[condition & win_cond]\n",
    "\n",
    "print(f\"The number of award that kendrick lamar won  is {df_grammys[condition & win_cond].shape[0]}\")\n"
   ]
  }
 ],
 "metadata": {
  "kernelspec": {
   "display_name": "Python 3",
   "language": "python",
   "name": "python3"
  },
  "language_info": {
   "codemirror_mode": {
    "name": "ipython",
    "version": 3
   },
   "file_extension": ".py",
   "mimetype": "text/x-python",
   "name": "python",
   "nbconvert_exporter": "python",
   "pygments_lexer": "ipython3",
   "version": "3.8.8"
  }
 },
 "nbformat": 4,
 "nbformat_minor": 2
}
